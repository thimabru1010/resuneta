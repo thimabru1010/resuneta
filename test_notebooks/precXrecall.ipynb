{
 "cells": [
  {
   "cell_type": "code",
   "execution_count": 14,
   "metadata": {},
   "outputs": [],
   "source": [
    "import numpy as np\n",
    "import math\n",
    "import matplotlib.pyplot as plt"
   ]
  },
  {
   "cell_type": "code",
   "execution_count": 40,
   "metadata": {
    "scrolled": true
   },
   "outputs": [
    {
     "name": "stdout",
     "output_type": "stream",
     "text": [
      "[0.         0.02040816 0.04081633 0.06122449 0.08163265 0.10204082\n",
      " 0.12244898 0.14285714 0.16326531 0.18367347 0.20408163 0.2244898\n",
      " 0.24489796 0.26530612 0.28571429 0.30612245 0.32653061 0.34693878\n",
      " 0.36734694 0.3877551  0.40816327 0.42857143 0.44897959 0.46938776\n",
      " 0.48979592 0.51020408 0.53061224 0.55102041 0.57142857 0.59183673\n",
      " 0.6122449  0.63265306 0.65306122 0.67346939 0.69387755 0.71428571\n",
      " 0.73469388 0.75510204 0.7755102  0.79591837 0.81632653 0.83673469\n",
      " 0.85714286 0.87755102 0.89795918 0.91836735 0.93877551 0.95918367\n",
      " 0.97959184 1.        ]\n",
      "(50, 2)\n",
      "[0.         0.02040816 0.04081633 0.06122449 0.08163265 0.10204082\n",
      " 0.12244898 0.14285714 0.16326531 0.18367347 0.20408163 0.2244898\n",
      " 0.24489796 0.26530612 0.28571429 0.30612245 0.32653061 0.34693878\n",
      " 0.36734694 0.3877551  0.40816327 0.42857143 0.44897959 0.46938776\n",
      " 0.48979592        nan        nan        nan        nan        nan\n",
      "        nan        nan        nan        nan        nan        nan\n",
      "        nan        nan        nan        nan        nan        nan\n",
      "        nan        nan        nan        nan        nan        nan\n",
      "        nan        nan]\n"
     ]
    }
   ],
   "source": [
    "x = np.linspace(0,1,50)\n",
    "print(x)\n",
    "y = x\n",
    "def_metrics = np.stack((x, y), axis=1)\n",
    "print(def_metrics.shape)\n",
    "y_nan = y.copy()\n",
    "y_nan[y_nan > 0.5] = np.float('Nan')\n",
    "metrics_nan = np.stack((x, y_nan), axis=1)\n",
    "print(metrics_nan[:, 1])\n",
    "metrics_copy = metrics_nan.copy()"
   ]
  },
  {
   "cell_type": "code",
   "execution_count": 49,
   "metadata": {},
   "outputs": [
    {
     "name": "stdout",
     "output_type": "stream",
     "text": [
      "0\n",
      "1\n",
      "2\n",
      "3\n",
      "4\n",
      "5\n",
      "6\n",
      "7\n",
      "8\n",
      "9\n",
      "10\n",
      "11\n",
      "12\n",
      "13\n",
      "14\n",
      "15\n",
      "16\n",
      "17\n",
      "18\n",
      "19\n",
      "20\n",
      "21\n",
      "22\n",
      "23\n",
      "24\n",
      "25\n",
      "26\n",
      "27\n",
      "nan\n",
      "28\n",
      "nan\n",
      "29\n",
      "nan\n",
      "30\n",
      "nan\n",
      "31\n",
      "nan\n",
      "32\n",
      "nan\n",
      "33\n",
      "nan\n",
      "34\n",
      "nan\n",
      "35\n",
      "nan\n",
      "36\n",
      "nan\n",
      "37\n",
      "nan\n",
      "38\n",
      "nan\n",
      "39\n",
      "nan\n",
      "40\n",
      "nan\n",
      "41\n",
      "nan\n",
      "42\n",
      "nan\n",
      "43\n",
      "nan\n",
      "44\n",
      "nan\n",
      "45\n",
      "nan\n",
      "46\n",
      "nan\n",
      "47\n",
      "nan\n",
      "48\n",
      "nan\n",
      "49\n",
      "nan\n"
     ]
    }
   ],
   "source": [
    "indexes = list(range(len(metrics_copy)))\n",
    "for i in indexes:\n",
    "    # if def_metrics[i, 1] == -1:\n",
    "    print(i)\n",
    "    if math.isnan(metrics_copy[i, 1]):\n",
    "        print(metrics_copy[i, 1])\n",
    "        metrics_copy[i, 1] = 2*metrics_copy[i-1, 1] - metrics_copy[i-2, 1]"
   ]
  },
  {
   "cell_type": "code",
   "execution_count": 50,
   "metadata": {},
   "outputs": [
    {
     "name": "stdout",
     "output_type": "stream",
     "text": [
      "mAP: 0.4897959183673469\n",
      "mAP2: 0.4897959183673471\n",
      "Image Saved!\n"
     ]
    },
    {
     "data": {
      "text/plain": [
       "<matplotlib.legend.Legend at 0x7f77cef14390>"
      ]
     },
     "execution_count": 50,
     "metadata": {},
     "output_type": "execute_result"
    },
    {
     "data": {
      "image/png": "[encoded data removed]",
      "text/plain": [
       "<Figure size 432x288 with 1 Axes>"
      ]
     },
     "metadata": {
      "needs_background": "light"
     },
     "output_type": "display_data"
    }
   ],
   "source": [
    "# Calculates mAP\n",
    "Recall = def_metrics[:, 0]\n",
    "Precision = def_metrics[:, 1]\n",
    "\n",
    "DeltaR = Recall[1:]-Recall[:-1]\n",
    "ap = np.sum(Precision[:-1]*DeltaR)\n",
    "print('mAP:', ap)\n",
    "\n",
    "Recall = metrics_copy[:, 0]\n",
    "Precision = metrics_copy[:, 1]\n",
    "\n",
    "DeltaR = Recall[1:]-Recall[:-1]\n",
    "ap2 = np.sum(Precision[:-1]*DeltaR)\n",
    "print('mAP2:', ap2)\n",
    "print('Image Saved!')\n",
    "\n",
    "fig_pr = plt.figure()\n",
    "\n",
    "# Precision x Recall curve\n",
    "# plt.plot(recall, prec, color='darkorange', lw=2)\n",
    "plt.plot(def_metrics[:, 0], def_metrics[:, 1], color='darkorange', lw=2)\n",
    "plt.plot(metrics_copy[:, 0], metrics_copy[:, 1], color='blue', lw=2, linestyle='--')\n",
    "plt.plot(metrics_nan[:, 0], metrics_nan[:, 1], color='black', lw=2, linestyle='--')\n",
    "plt.xlim([0.0, 1.0])\n",
    "plt.ylim([0.0, 1.05])\n",
    "plt.xlabel('Recall')\n",
    "plt.ylabel('Precision')\n",
    "plt.title(f'Precision x Recall (mAP: {ap:.2f})')\n",
    "plt.legend(['Original', 'Interpolated', 'Nan'], loc=\"lower right\")"
   ]
  },
  {
   "cell_type": "code",
   "execution_count": 51,
   "metadata": {},
   "outputs": [
    {
     "name": "stdout",
     "output_type": "stream",
     "text": [
      "0\n",
      "1\n",
      "2\n",
      "3\n",
      "4\n",
      "5\n",
      "6\n",
      "7\n",
      "8\n"
     ]
    }
   ],
   "source": [
    "for i in range(9):\n",
    "    print(i)"
   ]
  },
  {
   "cell_type": "code",
   "execution_count": null,
   "metadata": {},
   "outputs": [],
   "source": []
  }
 ],
 "metadata": {
  "kernelspec": {
   "display_name": "Python 3",
   "language": "python",
   "name": "python3"
  },
  "language_info": {
   "codemirror_mode": {
    "name": "ipython",
    "version": 3
   },
   "file_extension": ".py",
   "mimetype": "text/x-python",
   "name": "python",
   "nbconvert_exporter": "python",
   "pygments_lexer": "ipython3",
   "version": "3.6.9"
  }
 },
 "nbformat": 4,
 "nbformat_minor": 4
}
