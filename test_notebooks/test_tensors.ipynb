{
 "cells": [
  {
   "cell_type": "code",
   "execution_count": 1,
   "metadata": {},
   "outputs": [],
   "source": [
    "import numpy as np\n",
    "import mxnet as mx\n",
    "import mxnet.gluon.nn as nn"
   ]
  },
  {
   "cell_type": "code",
   "execution_count": 2,
   "metadata": {},
   "outputs": [],
   "source": [
    "a = np.random.rand(3, 256, 256)\n",
    "b = np.random.rand(5, 256, 256)\n",
    "c = np.concatenate((a, b), axis=0)"
   ]
  },
  {
   "cell_type": "code",
   "execution_count": 3,
   "metadata": {},
   "outputs": [
    {
     "name": "stdout",
     "output_type": "stream",
     "text": [
      "(8, 256, 256)\n"
     ]
    }
   ],
   "source": [
    "print(c.shape)"
   ]
  },
  {
   "cell_type": "code",
   "execution_count": null,
   "metadata": {},
   "outputs": [],
   "source": []
  },
  {
   "cell_type": "code",
   "execution_count": 7,
   "metadata": {},
   "outputs": [
    {
     "name": "stdout",
     "output_type": "stream",
     "text": [
      "(1, 8, 256, 256)\n"
     ]
    }
   ],
   "source": [
    "# x = mx.random.rand(3, 256, 256)\n",
    "x1 = mx.nd.random.normal(shape=(1, 3, 256, 256))\n",
    "x2 = mx.nd.random.normal(shape=(1, 5, 256, 256))\n",
    "res = mx.nd.concat(x1, x2, dim=1)\n",
    "# res = mx.symbol.concatenate(x1, x2, dim=1)\n",
    "print(res.shape)"
   ]
  },
  {
   "cell_type": "code",
   "execution_count": 8,
   "metadata": {},
   "outputs": [],
   "source": [
    "w = mx.nd.array([0, 0, 0])\n",
    "x1 = mx.nd.random.normal(shape=(32, 3, 256, 256))\n",
    "x2 = mx.nd.random.normal(shape=(32, 3, 256, 256))\n",
    "res = mx.ndarray.elemwise_mul(x1, x2)"
   ]
  },
  {
   "cell_type": "code",
   "execution_count": 10,
   "metadata": {},
   "outputs": [
    {
     "ename": "MXNetError",
     "evalue": "Traceback (most recent call last):\n  File \"src/c_api/c_api.cc\", line 1840\nMXNetError: Check failed: arr->shape().Size() < (int64_t{1} << 31) - 1 (1236950581248 vs. 2147483647) : [Get Shape] Size of tensor you are trying to allocate is larger than 2^31 elements. Please build with flag USE_INT64_TENSOR_SIZE=1",
     "output_type": "error",
     "traceback": [
      "\u001b[0;31m---------------------------------------------------------------------------\u001b[0m",
      "\u001b[0;31mMXNetError\u001b[0m                                Traceback (most recent call last)",
      "\u001b[0;32m<ipython-input-10-c57e9ca19152>\u001b[0m in \u001b[0;36m<module>\u001b[0;34m\u001b[0m\n\u001b[1;32m      1\u001b[0m \u001b[0mx3\u001b[0m \u001b[0;34m=\u001b[0m \u001b[0mmx\u001b[0m\u001b[0;34m.\u001b[0m\u001b[0mnd\u001b[0m\u001b[0;34m.\u001b[0m\u001b[0mones\u001b[0m\u001b[0;34m(\u001b[0m\u001b[0mshape\u001b[0m\u001b[0;34m=\u001b[0m\u001b[0;34m(\u001b[0m\u001b[0;36m32\u001b[0m\u001b[0;34m,\u001b[0m \u001b[0;36m3\u001b[0m\u001b[0;34m,\u001b[0m \u001b[0;36m256\u001b[0m\u001b[0;34m,\u001b[0m \u001b[0;36m256\u001b[0m\u001b[0;34m)\u001b[0m\u001b[0;34m)\u001b[0m\u001b[0;34m\u001b[0m\u001b[0;34m\u001b[0m\u001b[0m\n\u001b[1;32m      2\u001b[0m \u001b[0;31m#print(x3)\u001b[0m\u001b[0;34m\u001b[0m\u001b[0;34m\u001b[0m\u001b[0;34m\u001b[0m\u001b[0m\n\u001b[0;32m----> 3\u001b[0;31m \u001b[0mprint\u001b[0m\u001b[0;34m(\u001b[0m\u001b[0mx3\u001b[0m\u001b[0;34m[\u001b[0m \u001b[0mx3\u001b[0m \u001b[0;34m==\u001b[0m \u001b[0;36m1\u001b[0m\u001b[0;34m]\u001b[0m\u001b[0;34m)\u001b[0m\u001b[0;34m\u001b[0m\u001b[0;34m\u001b[0m\u001b[0m\n\u001b[0m",
      "\u001b[0;32m~/.virtualenvs/base/lib/python3.6/site-packages/mxnet/ndarray/ndarray.py\u001b[0m in \u001b[0;36m__repr__\u001b[0;34m(self)\u001b[0m\n\u001b[1;32m    254\u001b[0m     \u001b[0;32mdef\u001b[0m \u001b[0m__repr__\u001b[0m\u001b[0;34m(\u001b[0m\u001b[0mself\u001b[0m\u001b[0;34m)\u001b[0m\u001b[0;34m:\u001b[0m\u001b[0;34m\u001b[0m\u001b[0;34m\u001b[0m\u001b[0m\n\u001b[1;32m    255\u001b[0m         \u001b[0;34m\"\"\"Returns a string representation of the array.\"\"\"\u001b[0m\u001b[0;34m\u001b[0m\u001b[0;34m\u001b[0m\u001b[0m\n\u001b[0;32m--> 256\u001b[0;31m         \u001b[0mshape_info\u001b[0m \u001b[0;34m=\u001b[0m \u001b[0;34m'x'\u001b[0m\u001b[0;34m.\u001b[0m\u001b[0mjoin\u001b[0m\u001b[0;34m(\u001b[0m\u001b[0;34m[\u001b[0m\u001b[0;34m'%d'\u001b[0m \u001b[0;34m%\u001b[0m \u001b[0mx\u001b[0m \u001b[0;32mfor\u001b[0m \u001b[0mx\u001b[0m \u001b[0;32min\u001b[0m \u001b[0mself\u001b[0m\u001b[0;34m.\u001b[0m\u001b[0mshape\u001b[0m\u001b[0;34m]\u001b[0m\u001b[0;34m)\u001b[0m\u001b[0;34m\u001b[0m\u001b[0;34m\u001b[0m\u001b[0m\n\u001b[0m\u001b[1;32m    257\u001b[0m         return '\\n%s\\n<%s %s @%s>' % (str(self.asnumpy()),\n\u001b[1;32m    258\u001b[0m                                       \u001b[0mself\u001b[0m\u001b[0;34m.\u001b[0m\u001b[0m__class__\u001b[0m\u001b[0;34m.\u001b[0m\u001b[0m__name__\u001b[0m\u001b[0;34m,\u001b[0m\u001b[0;34m\u001b[0m\u001b[0;34m\u001b[0m\u001b[0m\n",
      "\u001b[0;32m~/.virtualenvs/base/lib/python3.6/site-packages/mxnet/ndarray/ndarray.py\u001b[0m in \u001b[0;36mshape\u001b[0;34m(self)\u001b[0m\n\u001b[1;32m   2403\u001b[0m             \u001b[0mpdata\u001b[0m \u001b[0;34m=\u001b[0m \u001b[0mctypes\u001b[0m\u001b[0;34m.\u001b[0m\u001b[0mPOINTER\u001b[0m\u001b[0;34m(\u001b[0m\u001b[0mmx_int\u001b[0m\u001b[0;34m)\u001b[0m\u001b[0;34m(\u001b[0m\u001b[0;34m)\u001b[0m\u001b[0;34m\u001b[0m\u001b[0;34m\u001b[0m\u001b[0m\n\u001b[1;32m   2404\u001b[0m             check_call(_LIB.MXNDArrayGetShapeEx(\n\u001b[0;32m-> 2405\u001b[0;31m                 self.handle, ctypes.byref(ndim), ctypes.byref(pdata)))\n\u001b[0m\u001b[1;32m   2406\u001b[0m         \u001b[0;32mif\u001b[0m \u001b[0mndim\u001b[0m\u001b[0;34m.\u001b[0m\u001b[0mvalue\u001b[0m \u001b[0;34m==\u001b[0m \u001b[0;34m-\u001b[0m\u001b[0;36m1\u001b[0m\u001b[0;34m:\u001b[0m\u001b[0;34m\u001b[0m\u001b[0;34m\u001b[0m\u001b[0m\n\u001b[1;32m   2407\u001b[0m             \u001b[0;32mreturn\u001b[0m \u001b[0;32mNone\u001b[0m\u001b[0;34m\u001b[0m\u001b[0;34m\u001b[0m\u001b[0m\n",
      "\u001b[0;32m~/.virtualenvs/base/lib/python3.6/site-packages/mxnet/base.py\u001b[0m in \u001b[0;36mcheck_call\u001b[0;34m(ret)\u001b[0m\n\u001b[1;32m    244\u001b[0m     \"\"\"\n\u001b[1;32m    245\u001b[0m     \u001b[0;32mif\u001b[0m \u001b[0mret\u001b[0m \u001b[0;34m!=\u001b[0m \u001b[0;36m0\u001b[0m\u001b[0;34m:\u001b[0m\u001b[0;34m\u001b[0m\u001b[0;34m\u001b[0m\u001b[0m\n\u001b[0;32m--> 246\u001b[0;31m         \u001b[0;32mraise\u001b[0m \u001b[0mget_last_ffi_error\u001b[0m\u001b[0;34m(\u001b[0m\u001b[0;34m)\u001b[0m\u001b[0;34m\u001b[0m\u001b[0;34m\u001b[0m\u001b[0m\n\u001b[0m\u001b[1;32m    247\u001b[0m \u001b[0;34m\u001b[0m\u001b[0m\n\u001b[1;32m    248\u001b[0m \u001b[0;34m\u001b[0m\u001b[0m\n",
      "\u001b[0;31mMXNetError\u001b[0m: Traceback (most recent call last):\n  File \"src/c_api/c_api.cc\", line 1840\nMXNetError: Check failed: arr->shape().Size() < (int64_t{1} << 31) - 1 (1236950581248 vs. 2147483647) : [Get Shape] Size of tensor you are trying to allocate is larger than 2^31 elements. Please build with flag USE_INT64_TENSOR_SIZE=1"
     ]
    }
   ],
   "source": [
    "x3 = mx.nd.ones(shape=(32, 3, 256, 256))\n",
    "#print(x3)\n",
    "print(x3[ x3 == 1])"
   ]
  },
  {
   "cell_type": "code",
   "execution_count": 16,
   "metadata": {},
   "outputs": [
    {
     "name": "stdout",
     "output_type": "stream",
     "text": [
      "cpu(0)\n",
      "\n",
      "[1. 1. 0.]\n",
      "<NDArray 3 @cpu(0)>\n",
      "\n",
      "[[[[ 2.2122064  -1.0538379  -0.        ]\n",
      "   [ 0.7740038  -2.580389   -0.        ]\n",
      "   [ 1.0434403   0.57856286  0.        ]\n",
      "   ...\n",
      "   [ 1.4976315  -0.36803886  0.        ]\n",
      "   [-0.7417144  -1.1380361  -0.        ]\n",
      "   [ 1.2254854   0.6658      0.        ]]\n",
      "\n",
      "  [[-0.82786876 -0.14869715 -0.        ]\n",
      "   [ 0.2690718   0.7023181   0.        ]\n",
      "   [ 0.9894229  -1.4420654   0.        ]\n",
      "   ...\n",
      "   [-0.5818134   0.25275865 -0.        ]\n",
      "   [-0.36983752 -0.31474134  0.        ]\n",
      "   [-1.1031728   0.31677756 -0.        ]]\n",
      "\n",
      "  [[ 0.6826081   1.0922168   0.        ]\n",
      "   [-0.08313507  0.7627154   0.        ]\n",
      "   [-2.0696068  -1.0645827   0.        ]\n",
      "   ...\n",
      "   [ 0.24697025  1.5400436   0.        ]\n",
      "   [-0.2802051  -1.8469768   0.        ]\n",
      "   [ 1.0064923   0.02961517 -0.        ]]\n",
      "\n",
      "  ...\n",
      "\n",
      "  [[ 0.21178393  0.13551424  0.        ]\n",
      "   [ 1.0565321  -1.3070334   0.        ]\n",
      "   [-1.6809853   0.06665158  0.        ]\n",
      "   ...\n",
      "   [ 1.4828714  -1.7161665   0.        ]\n",
      "   [-0.20526004 -0.3934135   0.        ]\n",
      "   [ 0.8178363   0.95865035  0.        ]]\n",
      "\n",
      "  [[-0.89296865 -0.57019985 -0.        ]\n",
      "   [-0.45988905  0.83526564 -0.        ]\n",
      "   [ 0.64185846 -0.64310616  0.        ]\n",
      "   ...\n",
      "   [ 0.1150039  -0.44677237 -0.        ]\n",
      "   [ 0.31574723  0.02709444 -0.        ]\n",
      "   [ 0.5998401   1.0030026  -0.        ]]\n",
      "\n",
      "  [[-0.9808104  -0.21688995 -0.        ]\n",
      "   [-1.3491956   0.6254412   0.        ]\n",
      "   [-0.26314473  1.7538124  -0.        ]\n",
      "   ...\n",
      "   [ 0.32743922  0.04536276 -0.        ]\n",
      "   [ 2.4986694   1.000973    0.        ]\n",
      "   [ 1.1880563  -0.15860496 -0.        ]]]]\n",
      "<NDArray 1x256x256x3 @cpu(0)>\n"
     ]
    }
   ],
   "source": [
    "w = mx.nd.array([1, 1, 0])\n",
    "print(w.ctx)\n",
    "print(w)\n",
    "wx1 = x1.transpose((0, 2, 3, 1)) * w\n",
    "print(wx1)"
   ]
  },
  {
   "cell_type": "code",
   "execution_count": 38,
   "metadata": {},
   "outputs": [
    {
     "name": "stdout",
     "output_type": "stream",
     "text": [
      "Padding: 1\n",
      "(1, 1, 256, 256)\n"
     ]
    },
    {
     "data": {
      "text/plain": [
       "(256, 256)"
      ]
     },
     "execution_count": 38,
     "metadata": {},
     "output_type": "execute_result"
    }
   ],
   "source": [
    "from mxnet import np, npx\n",
    "from mxnet.gluon import nn\n",
    "npx.set_np()\n",
    "\n",
    "# For convenience, we define a function to calculate the convolutional layer.\n",
    "# This function initializes the convolutional layer weights and performs\n",
    "# corresponding dimensionality elevations and reductions on the input and\n",
    "# output\n",
    "def comp_conv2d(conv2d, X):\n",
    "    conv2d.initialize()\n",
    "    # Here (1, 1) indicates that the batch size and the number of channels\n",
    "    # are both 1\n",
    "    # X = X.reshape((1, 1) + X.shape)\n",
    "    print(X.shape)\n",
    "    Y = conv2d(X)\n",
    "    # Exclude the first two dimensions that do not interest us: examples and\n",
    "    # channels\n",
    "    return Y.reshape(Y.shape[2:])\n",
    "\n",
    "# Note that here 1 row or column is padded on either side, so a total of 2\n",
    "# rows or columns are added\n",
    "k = 3\n",
    "p = (k - 1) // 2\n",
    "print(f'Padding: {p}')\n",
    "conv2d = nn.Conv2D(1, kernel_size=k, padding=p)\n",
    "X = np.random.uniform(size=(1, 1, 256, 256))\n",
    "comp_conv2d(conv2d, X).shape"
   ]
  },
  {
   "cell_type": "code",
   "execution_count": null,
   "metadata": {},
   "outputs": [],
   "source": []
  }
 ],
 "metadata": {
  "kernelspec": {
   "display_name": "Python 3",
   "language": "python",
   "name": "python3"
  },
  "language_info": {
   "codemirror_mode": {
    "name": "ipython",
    "version": 3
   },
   "file_extension": ".py",
   "mimetype": "text/x-python",
   "name": "python",
   "nbconvert_exporter": "python",
   "pygments_lexer": "ipython3",
   "version": "3.6.9"
  }
 },
 "nbformat": 4,
 "nbformat_minor": 4
}
