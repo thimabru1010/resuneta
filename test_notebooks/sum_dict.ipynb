{
 "cells": [
  {
   "cell_type": "code",
   "execution_count": 1,
   "metadata": {},
   "outputs": [],
   "source": [
    "import numpy as np"
   ]
  },
  {
   "cell_type": "code",
   "execution_count": 2,
   "metadata": {},
   "outputs": [],
   "source": [
    "shape = (3, 256, 256)\n",
    "a1 = np.ones(shape)\n",
    "a2 = 2*a1\n",
    "a3 = 3*a1"
   ]
  },
  {
   "cell_type": "code",
   "execution_count": 4,
   "metadata": {},
   "outputs": [
    {
     "name": "stdout",
     "output_type": "stream",
     "text": [
      "[[[[1. 1. 1. ... 1. 1. 1.]\n",
      "   [1. 1. 1. ... 1. 1. 1.]\n",
      "   [1. 1. 1. ... 1. 1. 1.]\n",
      "   ...\n",
      "   [1. 1. 1. ... 1. 1. 1.]\n",
      "   [1. 1. 1. ... 1. 1. 1.]\n",
      "   [1. 1. 1. ... 1. 1. 1.]]\n",
      "\n",
      "  [[1. 1. 1. ... 1. 1. 1.]\n",
      "   [1. 1. 1. ... 1. 1. 1.]\n",
      "   [1. 1. 1. ... 1. 1. 1.]\n",
      "   ...\n",
      "   [1. 1. 1. ... 1. 1. 1.]\n",
      "   [1. 1. 1. ... 1. 1. 1.]\n",
      "   [1. 1. 1. ... 1. 1. 1.]]\n",
      "\n",
      "  [[1. 1. 1. ... 1. 1. 1.]\n",
      "   [1. 1. 1. ... 1. 1. 1.]\n",
      "   [1. 1. 1. ... 1. 1. 1.]\n",
      "   ...\n",
      "   [1. 1. 1. ... 1. 1. 1.]\n",
      "   [1. 1. 1. ... 1. 1. 1.]\n",
      "   [1. 1. 1. ... 1. 1. 1.]]]\n",
      "\n",
      "\n",
      " [[[2. 2. 2. ... 2. 2. 2.]\n",
      "   [2. 2. 2. ... 2. 2. 2.]\n",
      "   [2. 2. 2. ... 2. 2. 2.]\n",
      "   ...\n",
      "   [2. 2. 2. ... 2. 2. 2.]\n",
      "   [2. 2. 2. ... 2. 2. 2.]\n",
      "   [2. 2. 2. ... 2. 2. 2.]]\n",
      "\n",
      "  [[2. 2. 2. ... 2. 2. 2.]\n",
      "   [2. 2. 2. ... 2. 2. 2.]\n",
      "   [2. 2. 2. ... 2. 2. 2.]\n",
      "   ...\n",
      "   [2. 2. 2. ... 2. 2. 2.]\n",
      "   [2. 2. 2. ... 2. 2. 2.]\n",
      "   [2. 2. 2. ... 2. 2. 2.]]\n",
      "\n",
      "  [[2. 2. 2. ... 2. 2. 2.]\n",
      "   [2. 2. 2. ... 2. 2. 2.]\n",
      "   [2. 2. 2. ... 2. 2. 2.]\n",
      "   ...\n",
      "   [2. 2. 2. ... 2. 2. 2.]\n",
      "   [2. 2. 2. ... 2. 2. 2.]\n",
      "   [2. 2. 2. ... 2. 2. 2.]]]\n",
      "\n",
      "\n",
      " [[[3. 3. 3. ... 3. 3. 3.]\n",
      "   [3. 3. 3. ... 3. 3. 3.]\n",
      "   [3. 3. 3. ... 3. 3. 3.]\n",
      "   ...\n",
      "   [3. 3. 3. ... 3. 3. 3.]\n",
      "   [3. 3. 3. ... 3. 3. 3.]\n",
      "   [3. 3. 3. ... 3. 3. 3.]]\n",
      "\n",
      "  [[3. 3. 3. ... 3. 3. 3.]\n",
      "   [3. 3. 3. ... 3. 3. 3.]\n",
      "   [3. 3. 3. ... 3. 3. 3.]\n",
      "   ...\n",
      "   [3. 3. 3. ... 3. 3. 3.]\n",
      "   [3. 3. 3. ... 3. 3. 3.]\n",
      "   [3. 3. 3. ... 3. 3. 3.]]\n",
      "\n",
      "  [[3. 3. 3. ... 3. 3. 3.]\n",
      "   [3. 3. 3. ... 3. 3. 3.]\n",
      "   [3. 3. 3. ... 3. 3. 3.]\n",
      "   ...\n",
      "   [3. 3. 3. ... 3. 3. 3.]\n",
      "   [3. 3. 3. ... 3. 3. 3.]\n",
      "   [3. 3. 3. ... 3. 3. 3.]]]]\n",
      "(3, 3, 256, 256)\n"
     ]
    }
   ],
   "source": [
    "a = np.stack((a1, a2, a3), axis=0)\n",
    "print(a)\n",
    "print(a.shape)"
   ]
  },
  {
   "cell_type": "code",
   "execution_count": 5,
   "metadata": {},
   "outputs": [
    {
     "name": "stdout",
     "output_type": "stream",
     "text": [
      "Class pixels of final mask: {1.0: 196608, 2.0: 196608, 3.0: 196608}\n"
     ]
    }
   ],
   "source": [
    "unique, counts = np.unique(a, return_counts=True)\n",
    "counts_dict = dict(zip(unique, counts))\n",
    "print(f'Class pixels of final mask: {counts_dict}')"
   ]
  },
  {
   "cell_type": "code",
   "execution_count": 6,
   "metadata": {},
   "outputs": [],
   "source": [
    "c = counts_dict"
   ]
  },
  {
   "cell_type": "code",
   "execution_count": 7,
   "metadata": {},
   "outputs": [
    {
     "name": "stdout",
     "output_type": "stream",
     "text": [
      "{1.0: 196608, 2.0: 196608, 3.0: 196608}\n"
     ]
    }
   ],
   "source": [
    "print(c)"
   ]
  },
  {
   "cell_type": "code",
   "execution_count": 8,
   "metadata": {},
   "outputs": [
    {
     "ename": "TypeError",
     "evalue": "unsupported operand type(s) for +: 'dict' and 'dict'",
     "output_type": "error",
     "traceback": [
      "\u001b[0;31m---------------------------------------------------------------------------\u001b[0m",
      "\u001b[0;31mTypeError\u001b[0m                                 Traceback (most recent call last)",
      "\u001b[0;32m<ipython-input-8-b7bdc28c9684>\u001b[0m in \u001b[0;36m<module>\u001b[0;34m\u001b[0m\n\u001b[0;32m----> 1\u001b[0;31m \u001b[0mres\u001b[0m \u001b[0;34m=\u001b[0m \u001b[0mc\u001b[0m \u001b[0;34m+\u001b[0m \u001b[0mcounts_dict\u001b[0m\u001b[0;34m\u001b[0m\u001b[0;34m\u001b[0m\u001b[0m\n\u001b[0m",
      "\u001b[0;31mTypeError\u001b[0m: unsupported operand type(s) for +: 'dict' and 'dict'"
     ]
    }
   ],
   "source": [
    "res = c + counts_dict"
   ]
  },
  {
   "cell_type": "code",
   "execution_count": 11,
   "metadata": {},
   "outputs": [
    {
     "name": "stdout",
     "output_type": "stream",
     "text": [
      "dict_values([196608, 196608, 196608])\n",
      "dict_keys([1.0, 2.0, 3.0])\n"
     ]
    }
   ],
   "source": [
    "print(c.values())\n",
    "print(c.keys())"
   ]
  },
  {
   "cell_type": "code",
   "execution_count": 12,
   "metadata": {},
   "outputs": [
    {
     "name": "stdout",
     "output_type": "stream",
     "text": [
      "[1. 2. 3.]\n"
     ]
    }
   ],
   "source": [
    "print(unique)"
   ]
  },
  {
   "cell_type": "code",
   "execution_count": null,
   "metadata": {},
   "outputs": [],
   "source": []
  }
 ],
 "metadata": {
  "kernelspec": {
   "display_name": "Python 3",
   "language": "python",
   "name": "python3"
  },
  "language_info": {
   "codemirror_mode": {
    "name": "ipython",
    "version": 3
   },
   "file_extension": ".py",
   "mimetype": "text/x-python",
   "name": "python",
   "nbconvert_exporter": "python",
   "pygments_lexer": "ipython3",
   "version": "3.6.9"
  }
 },
 "nbformat": 4,
 "nbformat_minor": 4
}
